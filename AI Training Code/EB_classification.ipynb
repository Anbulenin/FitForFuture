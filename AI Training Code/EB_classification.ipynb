{
 "cells": [
  {
   "cell_type": "code",
   "execution_count": 33,
   "metadata": {},
   "outputs": [],
   "source": [
    "import tensorflow as tf\n",
    "tf.compat.v1.logging.set_verbosity(tf.compat.v1.logging.ERROR)\n",
    "from tensorflow.keras.preprocessing.image import ImageDataGenerator\n",
    "import numpy as np\n",
    "from tensorflow.keras.preprocessing import image"
   ]
  },
  {
   "cell_type": "code",
   "execution_count": 34,
   "metadata": {},
   "outputs": [],
   "source": [
    "batch_size = 5\n",
    "train_datagen = ImageDataGenerator(\n",
    "    rotation_range=50,\n",
    "    width_shift_range=0.5,\n",
    "    height_shift_range=0.5,\n",
    "    rescale=1./255,\n",
    "    shear_range=0.2,\n",
    "    zoom_range=0.4,\n",
    "    horizontal_flip=True,\n",
    "    fill_mode='nearest')"
   ]
  },
  {
   "cell_type": "code",
   "execution_count": 35,
   "metadata": {},
   "outputs": [
    {
     "name": "stdout",
     "output_type": "stream",
     "text": [
      "Found 31 images belonging to 2 classes.\n",
      "Found 8 images belonging to 2 classes.\n"
     ]
    }
   ],
   "source": [
    "# batch_size = 3\n",
    "# train_datagen = ImageDataGenerator(\n",
    "#         rescale=1./255,\n",
    "#         shear_range=0.2,\n",
    "#         zoom_range=0.2,\n",
    "#         horizontal_flip=True)\n",
    "\n",
    "test_datagen = ImageDataGenerator(rescale=1./255)\n",
    "\n",
    "train_generator = train_datagen.flow_from_directory(\n",
    "        'Train',  \n",
    "        target_size=(128,128),  \n",
    "        batch_size=batch_size,\n",
    "        class_mode='binary') \n",
    "\n",
    "validation_generator = test_datagen.flow_from_directory(\n",
    "        'Test',\n",
    "        target_size=(128,128),\n",
    "        batch_size=batch_size,\n",
    "        class_mode='binary')"
   ]
  },
  {
   "cell_type": "code",
   "execution_count": 36,
   "metadata": {},
   "outputs": [
    {
     "name": "stdout",
     "output_type": "stream",
     "text": [
      "Model: \"sequential_1\"\n",
      "_________________________________________________________________\n",
      "Layer (type)                 Output Shape              Param #   \n",
      "=================================================================\n",
      "conv2d_3 (Conv2D)            (None, 128, 128, 512)     14336     \n",
      "_________________________________________________________________\n",
      "max_pooling2d_3 (MaxPooling2 (None, 64, 64, 512)       0         \n",
      "_________________________________________________________________\n",
      "conv2d_4 (Conv2D)            (None, 64, 64, 256)       1179904   \n",
      "_________________________________________________________________\n",
      "max_pooling2d_4 (MaxPooling2 (None, 32, 32, 256)       0         \n",
      "_________________________________________________________________\n",
      "conv2d_5 (Conv2D)            (None, 32, 32, 128)       295040    \n",
      "_________________________________________________________________\n",
      "max_pooling2d_5 (MaxPooling2 (None, 16, 16, 128)       0         \n",
      "_________________________________________________________________\n",
      "flatten_1 (Flatten)          (None, 32768)             0         \n",
      "_________________________________________________________________\n",
      "dense_2 (Dense)              (None, 128)               4194432   \n",
      "_________________________________________________________________\n",
      "dense_3 (Dense)              (None, 1)                 129       \n",
      "=================================================================\n",
      "Total params: 5,683,841\n",
      "Trainable params: 5,683,841\n",
      "Non-trainable params: 0\n",
      "_________________________________________________________________\n"
     ]
    }
   ],
   "source": [
    "model = tf.keras.models.Sequential([\n",
    "    tf.keras.layers.Conv2D(512, (3,3),padding='same', activation='relu', input_shape=(128,128,3)),\n",
    "    tf.keras.layers.MaxPooling2D((2,2),2),\n",
    "    \n",
    "    tf.keras.layers.Conv2D(256, (3,3), padding='same', activation='relu'),\n",
    "    tf.keras.layers.MaxPooling2D((2,2),2),     \n",
    "     \n",
    "    tf.keras.layers.Conv2D(128, (3,3), padding='same', activation='relu'),\n",
    "    tf.keras.layers.MaxPooling2D((2,2),2),   \n",
    "    \n",
    "    tf.keras.layers.Flatten(),\n",
    "    tf.keras.layers.Dense(128, activation='relu'),\n",
    "    \n",
    "    tf.keras.layers.Dense(1, activation='sigmoid')\n",
    "])\n",
    "\n",
    "\n",
    "model.compile(loss='binary_crossentropy',optimizer=tf.keras.optimizers.Adam(0.001),metrics=['accuracy'])\n",
    "model.summary()"
   ]
  },
  {
   "cell_type": "code",
   "execution_count": 37,
   "metadata": {},
   "outputs": [
    {
     "name": "stdout",
     "output_type": "stream",
     "text": [
      "Epoch 1/10\n",
      "400/400 [==============================] - 346s 866ms/step - loss: 0.6684 - accuracy: 0.5993 - val_loss: 0.4413 - val_accuracy: 0.8750\n",
      "Epoch 2/10\n",
      "400/400 [==============================] - 334s 834ms/step - loss: 0.5185 - accuracy: 0.7709 - val_loss: 0.7692 - val_accuracy: 0.6250\n",
      "Epoch 3/10\n",
      "400/400 [==============================] - 338s 844ms/step - loss: 0.4045 - accuracy: 0.8322 - val_loss: 0.3917 - val_accuracy: 0.7500\n",
      "Epoch 4/10\n",
      "400/400 [==============================] - 339s 847ms/step - loss: 0.3478 - accuracy: 0.8490 - val_loss: 0.5034 - val_accuracy: 0.7500\n",
      "Epoch 5/10\n",
      "400/400 [==============================] - 343s 857ms/step - loss: 0.2889 - accuracy: 0.8849 - val_loss: 0.7295 - val_accuracy: 0.7500\n",
      "Epoch 6/10\n",
      "400/400 [==============================] - 331s 828ms/step - loss: 0.2827 - accuracy: 0.8883 - val_loss: 0.4244 - val_accuracy: 0.7500\n",
      "Epoch 7/10\n",
      "400/400 [==============================] - 344s 861ms/step - loss: 0.2893 - accuracy: 0.8928 - val_loss: 0.6347 - val_accuracy: 0.7500\n",
      "Epoch 8/10\n",
      "400/400 [==============================] - 341s 853ms/step - loss: 0.2543 - accuracy: 0.9010 - val_loss: 0.3915 - val_accuracy: 0.7500\n",
      "Epoch 9/10\n",
      "400/400 [==============================] - 329s 821ms/step - loss: 0.2291 - accuracy: 0.9182 - val_loss: 0.3177 - val_accuracy: 0.7500\n",
      "Epoch 10/10\n",
      "400/400 [==============================] - 333s 832ms/step - loss: 0.1865 - accuracy: 0.9302 - val_loss: 0.6343 - val_accuracy: 0.7500\n"
     ]
    },
    {
     "data": {
      "text/plain": [
       "<tensorflow.python.keras.callbacks.History at 0x23ba7bde888>"
      ]
     },
     "execution_count": 37,
     "metadata": {},
     "output_type": "execute_result"
    }
   ],
   "source": [
    "#model.fit_generator(train_datagenerator,epochs=10,validation_data = test_datagenerator)\n",
    "\n",
    "model.fit_generator(\n",
    "        train_generator,\n",
    "        steps_per_epoch=2000 // batch_size,\n",
    "        epochs=10,\n",
    "        validation_data=validation_generator,\n",
    "        validation_steps=800 // batch_size)"
   ]
  },
  {
   "cell_type": "code",
   "execution_count": 22,
   "metadata": {},
   "outputs": [],
   "source": [
    "model.save('eng_bay_model.h5')"
   ]
  },
  {
   "cell_type": "code",
   "execution_count": 31,
   "metadata": {},
   "outputs": [],
   "source": [
    "import numpy as np\n",
    "from tensorflow.keras.preprocessing import image\n",
    "\n",
    "path= 'C:/Users/NNL1COB/Desktop/repo/Engine_bay/Test/Good/3.jpg'\n",
    "#path= 'C:/Users/NNL1COB/Desktop/repo/tyre_defect/sample_test/bad.jpg'\n",
    "model = tf.keras.models.load_model('eng_bay_model.h5')\n",
    "img = image.load_img(path, target_size=(128, 128))\n",
    "x = image.img_to_array(img)\n",
    "x = np.expand_dims(x, axis=0)\n",
    "images = np.vstack([x])\n",
    "classes = model.predict(images)\n",
    "if classes[0]<0.5:\n",
    "    r=0\n",
    "else:\n",
    "    r=1\n"
   ]
  },
  {
   "cell_type": "code",
   "execution_count": 32,
   "metadata": {},
   "outputs": [
    {
     "data": {
      "text/plain": [
       "1"
      ]
     },
     "execution_count": 32,
     "metadata": {},
     "output_type": "execute_result"
    }
   ],
   "source": [
    "r"
   ]
  },
  {
   "cell_type": "code",
   "execution_count": null,
   "metadata": {},
   "outputs": [],
   "source": []
  }
 ],
 "metadata": {
  "kernelspec": {
   "display_name": "Python 3",
   "language": "python",
   "name": "python3"
  },
  "language_info": {
   "codemirror_mode": {
    "name": "ipython",
    "version": 3
   },
   "file_extension": ".py",
   "mimetype": "text/x-python",
   "name": "python",
   "nbconvert_exporter": "python",
   "pygments_lexer": "ipython3",
   "version": "3.7.7"
  }
 },
 "nbformat": 4,
 "nbformat_minor": 4
}
